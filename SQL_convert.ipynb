{
 "cells": [
  {
   "cell_type": "code",
   "execution_count": 1,
   "id": "bb9433ad-1bf2-4fe8-a28a-ff198393e630",
   "metadata": {},
   "outputs": [],
   "source": [
    "import pandas as pd\n",
    "import mysql.connector\n",
    "import datetime"
   ]
  },
  {
   "cell_type": "markdown",
   "id": "25d13088-ac48-46a8-b65e-c5141d6502be",
   "metadata": {
    "jp-MarkdownHeadingCollapsed": true
   },
   "source": [
    "# TEXT PART"
   ]
  },
  {
   "cell_type": "code",
   "execution_count": 2,
   "id": "2db12cc4-3314-45ec-89f4-e20d940bf401",
   "metadata": {},
   "outputs": [
    {
     "name": "stdout",
     "output_type": "stream",
     "text": [
      "<mysql.connector.connection_cext.CMySQLConnection object at 0x7f70a2809e90>\n"
     ]
    }
   ],
   "source": [
    "# JUST TEST the database\n",
    "# create the host server for 1st time in the terminal after sudo mysql\n",
    "# CREATE USER 'lqd'@'localhost' IDENTIFIED BY 'Duong159753!'; \n",
    "mydb = mysql.connector.connect(\n",
    "  host=\"localhost\",\n",
    "  user=\"lqd\",\n",
    "  password=\"Duong159753!\"\n",
    "   \n",
    ")\n",
    "print(mydb) # Show\n",
    "# Obligatory cursor \n",
    "mycursor = mydb.cursor()\n",
    "\n",
    "### Show DataBase\n",
    "mycursor.execute(\"SHOW DATABASES\")\n",
    "for x in mycursor:\n",
    "  print(x) "
   ]
  },
  {
   "cell_type": "markdown",
   "id": "70370252-40cf-41de-aba3-286772f5b2ea",
   "metadata": {},
   "source": [
    "# MAIN"
   ]
  },
  {
   "cell_type": "code",
   "execution_count": 2,
   "id": "6eaa0fd0-7479-4f1c-87c6-73d2f657e10d",
   "metadata": {},
   "outputs": [],
   "source": [
    "mydb = mysql.connector.connect(\n",
    "  host=\"localhost\",\n",
    "  user=\"lqd\",\n",
    "  password=\"Duong159753!\",\n",
    "  database=\"RESTAURANT_SALE\" # Connect to database\n",
    ")\n",
    "mycursor = mydb.cursor()"
   ]
  },
  {
   "cell_type": "code",
   "execution_count": 21,
   "id": "ef8fe352-a2c9-4990-b4c0-b712fc9b2bbb",
   "metadata": {},
   "outputs": [],
   "source": [
    "# Create Table\n",
    "# Syntax for input the same as SQL syntax but put it into '''Content'''\n",
    "create_table_query = '''CREATE TABLE sales(\n",
    "                        date VARCHAR(50),\n",
    "                        bill_number VARCHAR(50),\n",
    "                        item_desc VARCHAR(50),\n",
    "                        quantity INT,\n",
    "                        rate DECIMAL(5,2),\n",
    "                        tax DECIMAL(5,2),\n",
    "                        total DECIMAL(5,2),\n",
    "                        discount DECIMAL(5,2),\n",
    "                        category VARCHAR(50)                      \n",
    "                        );'''\n",
    "mycursor.execute(create_table_query)"
   ]
  },
  {
   "cell_type": "code",
   "execution_count": 3,
   "id": "f9d7665d-5f27-4ff4-96b6-d2d91d14c668",
   "metadata": {},
   "outputs": [
    {
     "name": "stdout",
     "output_type": "stream",
     "text": [
      "('sales',)\n"
     ]
    }
   ],
   "source": [
    "# Show table \n",
    "mycursor.execute(\"SHOW TABLES\")\n",
    "for x in mycursor:\n",
    "  print(x)"
   ]
  },
  {
   "cell_type": "code",
   "execution_count": 4,
   "id": "2a914a5d-5361-47d4-aadf-ff89b9f47ae6",
   "metadata": {},
   "outputs": [],
   "source": [
    "# Read the CSV file into a Pandas dataframe\n",
    "file = 'Cafe_Data.xlsx'\n",
    "data = pd.read_excel(file)\n",
    "data['date'] = pd.to_datetime(data['date'],format ='%d/%m/%y %H:%M:%S')\n",
    "data['date'] = data['date'].dt.strftime('%d/%m/%y %H:%M:%S')"
   ]
  },
  {
   "cell_type": "code",
   "execution_count": 45,
   "id": "5aca0302-3507-4d0c-8dd8-dac685471009",
   "metadata": {},
   "outputs": [],
   "source": [
    "# Load data from DATAFRAME to SQL database\n",
    "for i,row in data.iterrows():\n",
    "    insert_query = f''' INSERT INTO sales VALUES (\"{row['date']}\",\"{row['Bill Number ']}\",\"{row['Item Desc']}\",{row['Quantity']},{row['Rate']},{row['Tax']},{row['Discount']},{row['Total']},\"{row['Category']}\");'''\n",
    "    mycursor.execute(insert_query)\n",
    "    # print(insert_query)\n",
    "    # break\n",
    "#Commit the changes and close the connection \n",
    "mydb.commit()"
   ]
  },
  {
   "cell_type": "markdown",
   "id": "fbcfb950-f69d-4c18-b176-c3bd99bba2e1",
   "metadata": {},
   "source": [
    "# Command in SQL"
   ]
  },
  {
   "cell_type": "code",
   "execution_count": 46,
   "id": "3cb45ed2-2fe1-41e4-bc45-fb41aabef070",
   "metadata": {},
   "outputs": [],
   "source": [
    "# CHECK ALL convert .csv file to SQL database\n",
    "modify = ''' SELECT * FROM sales''';\n",
    "mycursor.execute(modify)\n",
    "i = 0\n",
    "for x in mycursor:\n",
    "    #print(x)\n",
    "    i += 1\n",
    "print(i)"
   ]
  },
  {
   "cell_type": "code",
   "execution_count": 44,
   "id": "da356373-8203-4ae9-8d4c-41d16a03f50a",
   "metadata": {},
   "outputs": [],
   "source": [
    "# DELETE all the records\n",
    "modify = ''' TRUNCATE sales''';\n",
    "mycursor.execute(modify)\n",
    "mydb.commit()"
   ]
  },
  {
   "cell_type": "code",
   "execution_count": null,
   "id": "14e6ef55-fb71-48a7-9de4-cd1d357bcfed",
   "metadata": {},
   "outputs": [],
   "source": [
    "# MODIFY FEATURES \n",
    "modify = '''ALTER TABLE sales MODIFY COLUMN discount DECIMAL(10,5)''';\n",
    "drop = '''DROP TABLE sales '''\n",
    "mycursor.execute(modify)"
   ]
  }
 ],
 "metadata": {
  "kernelspec": {
   "display_name": "Python 3 (ipykernel)",
   "language": "python",
   "name": "python3"
  },
  "language_info": {
   "codemirror_mode": {
    "name": "ipython",
    "version": 3
   },
   "file_extension": ".py",
   "mimetype": "text/x-python",
   "name": "python",
   "nbconvert_exporter": "python",
   "pygments_lexer": "ipython3",
   "version": "3.11.5"
  }
 },
 "nbformat": 4,
 "nbformat_minor": 5
}
